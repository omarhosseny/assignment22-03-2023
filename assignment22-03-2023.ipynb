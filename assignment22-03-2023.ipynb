{
 "cells": [
  {
   "cell_type": "markdown",
   "id": "cde03e68-2064-4fc2-b6c7-53917af61243",
   "metadata": {},
   "source": [
    "## Creating a String"
   ]
  },
  {
   "cell_type": "code",
   "execution_count": 13,
   "id": "bef50fd5-3b65-4027-9720-90ba9631f8a3",
   "metadata": {},
   "outputs": [],
   "source": [
    "single_word , phase , single_quote , double_quote = 'h' , 'This is also a string' , 'String built with double quotes' , \"Now I'm ready to use the single quotes inside a string!\""
   ]
  },
  {
   "cell_type": "code",
   "execution_count": 14,
   "id": "dd4fb125-5608-4a0f-a288-0d9d15b80a32",
   "metadata": {},
   "outputs": [
    {
     "data": {
      "text/plain": [
       "'h'"
      ]
     },
     "execution_count": 14,
     "metadata": {},
     "output_type": "execute_result"
    }
   ],
   "source": [
    "single_word"
   ]
  },
  {
   "cell_type": "code",
   "execution_count": 15,
   "id": "27751d84-2573-41b9-a1dd-7e37453ffc7e",
   "metadata": {},
   "outputs": [
    {
     "data": {
      "text/plain": [
       "'This is also a string'"
      ]
     },
     "execution_count": 15,
     "metadata": {},
     "output_type": "execute_result"
    }
   ],
   "source": [
    "phase"
   ]
  },
  {
   "cell_type": "code",
   "execution_count": 16,
   "id": "e9af34c4-89f7-4bc9-8a19-41c016da1a4a",
   "metadata": {},
   "outputs": [
    {
     "data": {
      "text/plain": [
       "'String built with double quotes'"
      ]
     },
     "execution_count": 16,
     "metadata": {},
     "output_type": "execute_result"
    }
   ],
   "source": [
    "single_quote"
   ]
  },
  {
   "cell_type": "code",
   "execution_count": 17,
   "id": "01ef1c8f-864b-476e-9063-0ec9f5fb410c",
   "metadata": {},
   "outputs": [
    {
     "data": {
      "text/plain": [
       "\"Now I'm ready to use the single quotes inside a string!\""
      ]
     },
     "execution_count": 17,
     "metadata": {},
     "output_type": "execute_result"
    }
   ],
   "source": [
    "double_quote"
   ]
  },
  {
   "cell_type": "markdown",
   "id": "9ed05188-3fd9-480a-8a2d-8f98afa457eb",
   "metadata": {},
   "source": [
    "## Printing a String"
   ]
  },
  {
   "cell_type": "code",
   "execution_count": 19,
   "id": "02b52ddf-ee7d-4666-aa3a-3505d03518b9",
   "metadata": {},
   "outputs": [
    {
     "name": "stdout",
     "output_type": "stream",
     "text": [
      "Hello World\n"
     ]
    }
   ],
   "source": [
    "string = 'Hello World'\n",
    "print(string)"
   ]
  },
  {
   "cell_type": "code",
   "execution_count": 22,
   "id": "e46d16d9-69cc-4569-a53d-3427db3d0056",
   "metadata": {},
   "outputs": [
    {
     "name": "stdout",
     "output_type": "stream",
     "text": [
      "Hello World 1 \n",
      "Hello World 2 \n",
      "Use  \t  to print a new line\n"
     ]
    }
   ],
   "source": [
    "phase_2 = \"Hello World 1 \\nHello World 2 \\nUse  \t  to print a new line\"\n",
    "print(phase_2)"
   ]
  },
  {
   "cell_type": "markdown",
   "id": "c72672c5-b1e8-49b9-aa38-4f2382d5eb98",
   "metadata": {},
   "source": [
    "## String Indexing"
   ]
  },
  {
   "cell_type": "code",
   "execution_count": 29,
   "id": "1e3188e2-a54a-49b3-b4d1-75c8a288c72c",
   "metadata": {},
   "outputs": [],
   "source": [
    "s = \"Hello world\""
   ]
  },
  {
   "cell_type": "code",
   "execution_count": 40,
   "id": "00d0e28f-e25d-42fb-95f2-779dcd30bfa8",
   "metadata": {},
   "outputs": [
    {
     "data": {
      "text/plain": [
       "'H'"
      ]
     },
     "execution_count": 40,
     "metadata": {},
     "output_type": "execute_result"
    }
   ],
   "source": [
    "s[0]\n",
    "## s[:1] "
   ]
  },
  {
   "cell_type": "code",
   "execution_count": 41,
   "id": "5b4737cc-ef81-4138-b824-159c31f83b1f",
   "metadata": {},
   "outputs": [
    {
     "data": {
      "text/plain": [
       "' '"
      ]
     },
     "execution_count": 41,
     "metadata": {},
     "output_type": "execute_result"
    }
   ],
   "source": [
    "s[5]\n",
    "## s[5:6]"
   ]
  },
  {
   "cell_type": "code",
   "execution_count": 43,
   "id": "2288ed77-c87e-48fd-aee4-177dcae2b74f",
   "metadata": {},
   "outputs": [
    {
     "data": {
      "text/plain": [
       "'d'"
      ]
     },
     "execution_count": 43,
     "metadata": {},
     "output_type": "execute_result"
    }
   ],
   "source": [
    "s[10]\n",
    "## s[-1:]"
   ]
  },
  {
   "cell_type": "code",
   "execution_count": 44,
   "id": "bda3b329-e5cd-461b-baf1-f93a3dc94009",
   "metadata": {},
   "outputs": [
    {
     "data": {
      "text/plain": [
       "'ello world'"
      ]
     },
     "execution_count": 44,
     "metadata": {},
     "output_type": "execute_result"
    }
   ],
   "source": [
    "s[1:]"
   ]
  },
  {
   "cell_type": "code",
   "execution_count": 46,
   "id": "0abfa3c6-47a8-44e2-883c-6dd74da1e712",
   "metadata": {},
   "outputs": [
    {
     "data": {
      "text/plain": [
       "'Hello world'"
      ]
     },
     "execution_count": 46,
     "metadata": {},
     "output_type": "execute_result"
    }
   ],
   "source": [
    "s"
   ]
  },
  {
   "cell_type": "code",
   "execution_count": 48,
   "id": "9903066c-cc82-4800-aa57-3b4f2e271eaa",
   "metadata": {},
   "outputs": [
    {
     "data": {
      "text/plain": [
       "'Hell'"
      ]
     },
     "execution_count": 48,
     "metadata": {},
     "output_type": "execute_result"
    }
   ],
   "source": [
    "s[:4]"
   ]
  },
  {
   "cell_type": "code",
   "execution_count": 57,
   "id": "d042f7bf-1bb2-4db5-bfff-f788c5e422f5",
   "metadata": {},
   "outputs": [
    {
     "name": "stdout",
     "output_type": "stream",
     "text": [
      "d\n"
     ]
    }
   ],
   "source": [
    "i = 0\n",
    "while(i < len(s)) :\n",
    "    if(i == (len(s) -1)) :\n",
    "        print(s[i])\n",
    "    i +=1\n",
    "## s[-1:]"
   ]
  },
  {
   "cell_type": "code",
   "execution_count": 68,
   "id": "06be0c32-5c2d-4d64-a882-4eef37b9bdae",
   "metadata": {},
   "outputs": [
    {
     "name": "stdout",
     "output_type": "stream",
     "text": [
      "[1, 2, 3, 4, 5, 6, 7, 8, 9, 10]\n"
     ]
    }
   ],
   "source": [
    "array = []\n",
    "for x in range(1,11):\n",
    "    array.append(x)\n",
    "print(array)"
   ]
  },
  {
   "cell_type": "code",
   "execution_count": null,
   "id": "1969fe6d-4f7f-46e0-b95e-90b26b3647fd",
   "metadata": {},
   "outputs": [],
   "source": []
  }
 ],
 "metadata": {
  "kernelspec": {
   "display_name": "Python 3 (ipykernel)",
   "language": "python",
   "name": "python3"
  },
  "language_info": {
   "codemirror_mode": {
    "name": "ipython",
    "version": 3
   },
   "file_extension": ".py",
   "mimetype": "text/x-python",
   "name": "python",
   "nbconvert_exporter": "python",
   "pygments_lexer": "ipython3",
   "version": "3.9.12"
  }
 },
 "nbformat": 4,
 "nbformat_minor": 5
}
